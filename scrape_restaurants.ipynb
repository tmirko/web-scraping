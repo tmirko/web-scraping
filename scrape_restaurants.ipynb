{
 "cells": [
  {
   "cell_type": "markdown",
   "metadata": {},
   "source": [
    "# Web scraping - Tripadvisor restaurants"
   ]
  },
  {
   "cell_type": "markdown",
   "metadata": {},
   "source": [
    "##### Import python libraries:"
   ]
  },
  {
   "cell_type": "code",
   "execution_count": 30,
   "metadata": {},
   "outputs": [],
   "source": [
    "from bs4 import BeautifulSoup\n",
    "import requests\n",
    "import re\n",
    "\n",
    "# store the control variables in a variable\n",
    "scraping_control_variables = {\n",
    "    # 'city_name' : 'Berlin',\n",
    "    'geo_code' : '190454',\n",
    "    'data_offset_lower_limit' : 0,\n",
    "    'data_offset_upper_limit' : 29,\n",
    "    'page_num' : 0,\n",
    "    'page_size' : 30\n",
    "}"
   ]
  },
  {
   "cell_type": "markdown",
   "metadata": {},
   "source": [
    "##### Declare functions:"
   ]
  },
  {
   "cell_type": "code",
   "execution_count": 31,
   "metadata": {},
   "outputs": [],
   "source": [
    "def get_soup_content(gc, do):\n",
    "    \"\"\"Create url for every page\n",
    "\n",
    "    :param gc: string - geo-code for restaurants.\n",
    "    :param do: int - data offset, multiple of 30.\n",
    "    \"\"\"\n",
    "    URL = f\"https://www.tripadvisor.com/FindRestaurants?geo={gc}&offset={do}\"\n",
    "    HEADERS = {\n",
    "            \"User-Agent\": \"Mozilla/5.0 (Windows NT 10.0; Win64; x64) \\\n",
    "            AppleWebKit/537.36 (KHTML, like Gecko) Chrome/114.0.0.0 Safari/537.36\",\n",
    "            \"Accept-Language\": \"en-US, en;q=0.5\",\n",
    "        }\n",
    "    response = requests.get(URL, timeout=10, headers=HEADERS)\n",
    "    html_content = response.text\n",
    "\n",
    "    return BeautifulSoup(html_content, \"html.parser\")"
   ]
  },
  {
   "cell_type": "code",
   "execution_count": 32,
   "metadata": {},
   "outputs": [
    {
     "name": "stdout",
     "output_type": "stream",
     "text": [
      "Scraping item number: 5001_list_item\n",
      "Speisen ohne Grenzen\n",
      "None\n",
      "None\n",
      "African, Middle Eastern\n"
     ]
    }
   ],
   "source": [
    "def get_card(rest_cnt, soup_content):\n",
    "    card_tag = f\"{rest_cnt}_list_item\"\n",
    "    print(f\"Scraping item number: {card_tag}\")\n",
    "    card = soup_content.find(\"div\",{\"data-test\":card_tag})\n",
    "    return card\n",
    "\n",
    "def scrape_title(card):\n",
    "    title = card.find_all('div', class_ = 'biGQs _P fiohW alXOW NwcxK GzNcM ytVPx UTQMg RnEEZ ngXxk')\n",
    "    if title: \n",
    "        clean = title[0].text.split(\" \", 1)\n",
    "        return clean[1]\n",
    "\n",
    "def scrape_star_ratings(card):\n",
    "    star_rating = card.find_all('title',{'id':re.compile('^:lithium-')})\n",
    "    if star_rating:\n",
    "        clean = star_rating[-1].text.split(\" \", 1)\n",
    "        return clean[0]\n",
    "\n",
    "def scrape_reviews(card):\n",
    "    reviews = card.find_all('span', class_ = \"IiChw\")\n",
    "    if reviews:\n",
    "        clean = reviews[-1].text.replace(\",\",\"\").split(\" \", 1)\n",
    "        return clean[0]\n",
    "\n",
    "\n",
    "def scrape_cuisines(card):\n",
    "    cuisines = card.find('div', class_ = 'OvkNT K u FGSTQ')\n",
    "    if cuisines:\n",
    "        return cuisines.find('span', class_='YECgr Tsrjt').text\n",
    "\n",
    "soup_content = get_soup_content(190454, 5000)\n",
    "card = get_card(5001, soup_content)\n",
    "print(scrape_title(card))\n",
    "print(scrape_star_ratings(card))\n",
    "print(scrape_reviews(card))\n",
    "print(scrape_cuisines(card))"
   ]
  },
  {
   "cell_type": "code",
   "execution_count": 33,
   "metadata": {},
   "outputs": [
    {
     "name": "stdout",
     "output_type": "stream",
     "text": [
      "Scraping Page Number:  0\n",
      "Scraping Data Offset:  0\n",
      "Scraping item number: 1_list_item\n",
      "Scraping item number: 2_list_item\n",
      "Scraping item number: 3_list_item\n",
      "Scraping item number: 4_list_item\n",
      "Scraping item number: 5_list_item\n",
      "Scraping item number: 6_list_item\n",
      "Scraping item number: 7_list_item\n",
      "Scraping item number: 8_list_item\n",
      "Scraping item number: 9_list_item\n",
      "Scraping item number: 10_list_item\n",
      "Scraping item number: 11_list_item\n",
      "Scraping item number: 12_list_item\n",
      "Scraping item number: 13_list_item\n",
      "Scraping item number: 14_list_item\n",
      "Scraping item number: 15_list_item\n",
      "Scraping item number: 16_list_item\n",
      "Scraping item number: 17_list_item\n",
      "Scraping item number: 18_list_item\n",
      "Scraping item number: 19_list_item\n",
      "Scraping item number: 20_list_item\n",
      "Scraping item number: 21_list_item\n",
      "Scraping item number: 22_list_item\n",
      "Scraping item number: 23_list_item\n",
      "Scraping item number: 24_list_item\n",
      "Scraping item number: 25_list_item\n",
      "Scraping item number: 26_list_item\n",
      "Scraping item number: 27_list_item\n",
      "Scraping item number: 28_list_item\n",
      "Scraping item number: 29_list_item\n",
      "Scraping item number: 30_list_item\n",
      "Scraping Completed for Page Number:  0 \n",
      "\n",
      "Data Offset:  0\n",
      "[{'title': 'Wiener Wiaz Haus', 'cuisines': 'European, Central European', 'reviews': '1722', 'star rating': '4.5', 'page number': 0, 'data offset': 0, 'restaurant serial number': 1}, {'title': 'ef16 Restaurant', 'cuisines': 'Austrian, European', 'reviews': '2927', 'star rating': '4.5', 'page number': 0, 'data offset': 0, 'restaurant serial number': 2}, {'title': 'Restaurant Wiener Wirtschaft', 'cuisines': 'German, Austrian', 'reviews': '666', 'star rating': '4.5', 'page number': 0, 'data offset': 0, 'restaurant serial number': 3}, {'title': 'Bauernbraeu', 'cuisines': 'German, Austrian', 'reviews': '400', 'star rating': '4.5', 'page number': 0, 'data offset': 0, 'restaurant serial number': 4}, {'title': 'Sixta Restaurant Bar', 'cuisines': 'Austrian, European', 'reviews': '1252', 'star rating': '5.0', 'page number': 0, 'data offset': 0, 'restaurant serial number': 5}, {'title': 'Ariston Hellenic Restaurant', 'cuisines': 'Mediterranean, Greek', 'reviews': '488', 'star rating': '5.0', 'page number': 0, 'data offset': 0, 'restaurant serial number': 6}, {'title': 'DASANABOL. - Marina Tower', 'cuisines': 'Cafe, Healthy', 'reviews': '159', 'star rating': '5.0', 'page number': 0, 'data offset': 0, 'restaurant serial number': 7}, {'title': 'Wolfgang Puck Kitchen + Bar', 'cuisines': 'American, Austrian', 'reviews': '499', 'star rating': '5.0', 'page number': 0, 'data offset': 0, 'restaurant serial number': 8}, {'title': 'Vier Sinne - Dinner in the Dark Wien', 'cuisines': 'European', 'reviews': '151', 'star rating': '5.0', 'page number': 0, 'data offset': 0, 'restaurant serial number': 9}, {'title': 'Apron Restaurant', 'cuisines': 'International, European', 'reviews': '439', 'star rating': '5.0', 'page number': 0, 'data offset': 0, 'restaurant serial number': 10}, {'title': 'XXL Restaurant Leopoldauer Alm', 'cuisines': 'German, Austrian', 'reviews': '2509', 'star rating': '4.5', 'page number': 0, 'data offset': 0, 'restaurant serial number': 11}, {'title': 'Vienna Sausage', 'cuisines': 'Austrian, Fast Food', 'reviews': '621', 'star rating': '4.5', 'page number': 0, 'data offset': 0, 'restaurant serial number': 12}, {'title': 'YOU.', 'cuisines': 'International, European', 'reviews': '387', 'star rating': '4.5', 'page number': 0, 'data offset': 0, 'restaurant serial number': 13}, {'title': 'Marcodi', 'cuisines': 'Italian, Seafood', 'reviews': '237', 'star rating': '5.0', 'page number': 0, 'data offset': 0, 'restaurant serial number': 14}, {'title': 'Vanillas Wien', 'cuisines': 'Coffee & Tea, Cafe', 'reviews': '211', 'star rating': '5.0', 'page number': 0, 'data offset': 0, 'restaurant serial number': 15}, {'title': 'Ganesha Indian Cuisine', 'cuisines': 'Indian, Healthy', 'reviews': '1794', 'star rating': '5.0', 'page number': 0, 'data offset': 0, 'restaurant serial number': 16}, {'title': 'Restaurant Markt58', 'cuisines': 'Austrian, European', 'reviews': '194', 'star rating': '4.5', 'page number': 0, 'data offset': 0, 'restaurant serial number': 17}, {'title': 'Sri Nataraja indisches Restaurant', 'cuisines': 'Indian, Asian', 'reviews': '1131', 'star rating': '4.5', 'page number': 0, 'data offset': 0, 'restaurant serial number': 18}, {'title': 'Oak 107 Smokehouse Vienna', 'cuisines': 'American, Steakhouse', 'reviews': '148', 'star rating': '4.5', 'page number': 0, 'data offset': 0, 'restaurant serial number': 19}, {'title': 'Vinothek W-Einkehr', 'cuisines': 'Austrian', 'reviews': '604', 'star rating': '4.5', 'page number': 0, 'data offset': 0, 'restaurant serial number': 20}, {'title': 'Vollpension in der Johannesgasse', 'cuisines': 'Austrian, Cafe', 'reviews': '215', 'star rating': '5.0', 'page number': 0, 'data offset': 0, 'restaurant serial number': 21}, {'title': 'Loca', 'cuisines': 'International, Healthy', 'reviews': '1434', 'star rating': '4.5', 'page number': 0, 'data offset': 0, 'restaurant serial number': 22}, {'title': 'Pauli', 'cuisines': 'Austrian, International', 'reviews': '1320', 'star rating': '4.5', 'page number': 0, 'data offset': 0, 'restaurant serial number': 23}, {'title': 'Lola - Spanisches Tapas Restaurant', 'cuisines': 'Mediterranean, European', 'reviews': '731', 'star rating': '4.5', 'page number': 0, 'data offset': 0, 'restaurant serial number': 24}, {'title': 'Om namo', 'cuisines': 'Indian, Asian', 'reviews': '340', 'star rating': '5.0', 'page number': 0, 'data offset': 0, 'restaurant serial number': 25}, {'title': 'Restaurant Lebenbauer', 'cuisines': 'International, Fusion', 'reviews': '858', 'star rating': '4.5', 'page number': 0, 'data offset': 0, 'restaurant serial number': 26}, {'title': \"Rado's Gastwirtschaft seit 1904\", 'cuisines': 'Austrian, European', 'reviews': '313', 'star rating': '4.5', 'page number': 0, 'data offset': 0, 'restaurant serial number': 27}, {'title': 'Spice of India', 'cuisines': 'Indian, Asian', 'reviews': '639', 'star rating': '4.5', 'page number': 0, 'data offset': 0, 'restaurant serial number': 28}, {'title': 'Mini Restaurant', 'cuisines': 'International, European', 'reviews': '2008', 'star rating': '4.5', 'page number': 0, 'data offset': 0, 'restaurant serial number': 29}, {'title': 'Restaurant Marks', 'cuisines': 'Austrian, Bar', 'reviews': '394', 'star rating': '4.5', 'page number': 0, 'data offset': 0, 'restaurant serial number': 30}]\n"
     ]
    }
   ],
   "source": [
    "# call scrape functions and store it in a dictionary\n",
    "\n",
    "def get_restaurant_data_from_card(rest_cnt, data_offset_current, page_num, card):\n",
    "    restaurant_data = {\n",
    "        'title': scrape_title(card),\n",
    "        'cuisines': scrape_cuisines(card) ,\n",
    "        'reviews': scrape_reviews(card),\n",
    "        'star rating': scrape_star_ratings(card),\n",
    "        'page number': page_num,\n",
    "        'data offset': data_offset_current,\n",
    "        'restaurant serial number': rest_cnt\n",
    "    }\n",
    "    \n",
    "    return restaurant_data\n",
    "\n",
    "# parse each restaurant card\n",
    "def parse_tripadvisor(scraping_control_variables):\n",
    "    restaurants_scraped = []\n",
    "    data_offset_lower_limit = scraping_control_variables['data_offset_lower_limit']\n",
    "    data_offset_upper_limit = scraping_control_variables['data_offset_upper_limit']\n",
    "    page_num = scraping_control_variables['page_num']\n",
    "    page_size = scraping_control_variables['page_size']\n",
    "    geo_code = scraping_control_variables['geo_code']\n",
    "    # city_name = scraping_control_variables['city_name']\n",
    "\n",
    "    data_offset_current = data_offset_lower_limit\n",
    "    \n",
    "    while data_offset_current <= data_offset_upper_limit :\n",
    "        print(\"Scraping Page Number: \", page_num)\n",
    "        print(\"Scraping Data Offset: \", data_offset_current)\n",
    "        page_start_offset = (page_num*page_size) + 1\n",
    "        page_end_offset = (page_num*page_size) + page_size + 1\n",
    "        soup_content = get_soup_content(geo_code, data_offset_current)\n",
    "        for rest_cnt in range(page_start_offset , page_end_offset):\n",
    "            card = get_card(rest_cnt, soup_content)\n",
    "            if card is None:\n",
    "                break\n",
    "            restaurant_data = get_restaurant_data_from_card(rest_cnt, data_offset_current, page_num, card)\n",
    "            restaurants_scraped.append(restaurant_data)\n",
    "        print(\"Scraping Completed for Page Number: \", page_num, \"\\n\" )\n",
    "        print(\"Data Offset: \", data_offset_current)\n",
    "        page_num = page_num + 1\n",
    "        data_offset_current = data_offset_current + 30\n",
    "    return restaurants_scraped\n",
    "\n",
    "parse = parse_tripadvisor(scraping_control_variables)\n",
    "print(parse)"
   ]
  }
 ],
 "metadata": {
  "kernelspec": {
   "display_name": "web-scraping",
   "language": "python",
   "name": "python3"
  },
  "language_info": {
   "codemirror_mode": {
    "name": "ipython",
    "version": 3
   },
   "file_extension": ".py",
   "mimetype": "text/x-python",
   "name": "python",
   "nbconvert_exporter": "python",
   "pygments_lexer": "ipython3",
   "version": "3.11.9"
  }
 },
 "nbformat": 4,
 "nbformat_minor": 2
}
